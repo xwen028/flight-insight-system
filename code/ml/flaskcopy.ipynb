{
 "cells": [
  {
   "cell_type": "code",
   "execution_count": 68,
   "metadata": {},
   "outputs": [],
   "source": [
    "# from flask import Flask, request, jsonify\n",
    "import pandas as pd\n",
    "import numpy as np\n",
    "import pickle\n",
    "from datetime import datetime\n"
   ]
  },
  {
   "cell_type": "raw",
   "metadata": {
    "vscode": {
     "languageId": "raw"
    }
   },
   "source": [
    "\n",
    "app = Flask(__name__)\n",
    "\n",
    "@app.route('/predict', methods=['POST'])\n",
    "def predict():\n",
    "    data = request.get_json()\n",
    "\n",
    "#     # 提取并验证数据\n",
    "flight_number = data.get('flightNumber')\n",
    "departure_airport = data.get('departureAirport')\n",
    "arrival_airport = data.get('arrivalAirport')\n",
    "scheduled_departure = data.get('scheduledDeparture')\n",
    "scheduled_arrival = data.get('scheduledArrival')\n",
    "aircraft_type = data.get('aircraftType')\n",
    "gate_origin = data.get('gateOrigin')\n",
    "TMAX = data.get('TMAX') #最高温（摄氏度）\n",
    "TMIN = data.get('TMAX') #最低温（摄氏度）\n",
    "PRCP = data.get('TMAX') #由于数据集标准的改变，天气数据最好获取3列，最高温，最低温和降水，降水量（mm）\n",
    "ticket_price = data.get('ticketPrice')\n",
    "\n",
    "if not (departure_airport and arrival_airport and scheduled_departure):\n",
    "    return jsonify({\"error\": \"Missing required fields\"}), 400\n"
   ]
  },
  {
   "cell_type": "code",
   "execution_count": 69,
   "metadata": {},
   "outputs": [],
   "source": [
    "    \n",
    "    #数据输入示例\n",
    "    # {\n",
    "    #  \"flightNumber\": \"SQ318\",\n",
    "    #  \"departureAirport\": \"SIN\",\n",
    "    #  \"arrivalAirport\": \"LHR\",\n",
    "    #  \"scheduledDeparture\": \"2023-12-01T12:00:00\",\n",
    "    #  \"scheduledArrival\": \"2023-12-01T18:00:00\",\n",
    "    #  \"aircraftType\": \"Boeing 777\",\n",
    "    #  \"gateOrigin\": \"D32\",\n",
    "    #  \"TMAX\":20,\n",
    "    #  \"TMIN\":10,\n",
    "    #  \"PRCP\":25,\n",
    "    #  \"ticketPrice\": \"1000\"\n",
    "    # }\n",
    "    \n",
    "    #初始数据集输入示例，只要省掉不要的值就可以了。之后转为pd.DataFrame格式\n",
    "    # datainit = {\n",
    "    #    'scheduledDeparture': scheduled_departure,\n",
    "    #    'scheduledArrival': scheduled_arrival,\n",
    "    #    'UniqueCarrier':flight_number,\n",
    "    #    'TailNum': [3464],\n",
    "    #    'Origin':departure_airport,\n",
    "    #    'Dest': arrival_airport,\n",
    "    # }\n"
   ]
  },
  {
   "cell_type": "code",
   "execution_count": 70,
   "metadata": {},
   "outputs": [
    {
     "name": "stdout",
     "output_type": "stream",
     "text": [
      "  UniqueCarrier TailNum Origin Dest  TMAX  TMIN  PRCP  Month  DayofMonth  \\\n",
      "0            DH  N421FJ    BOS  PHL    53   -25    25      1          12   \n",
      "\n",
      "   DepTime  ArrTime  \n",
      "0        7        9  \n",
      "  UniqueCarrier TailNum Origin Dest Price  Month  DayofMonth  DepTime  ArrTime\n",
      "0            DH  N421FJ    BOS  PHL  1000      1          12        7        9\n"
     ]
    }
   ],
   "source": [
    "    \n",
    "dataModel1 = pd.DataFrame([{\n",
    "    'scheduledDeparture':'2023-01-12T07:00:00',\n",
    "    'scheduledArrival':'2023-01-12T09:55:00' ,\n",
    "    'UniqueCarrier':'DH',\n",
    "    'TailNum': 'N421FJ',\n",
    "    'Origin':'BOS',\n",
    "    'Dest': 'PHL',\n",
    "    'TMAX':53,\n",
    "    'TMIN':-25,\n",
    "    'PRCP':25,\n",
    "}])\n",
    "\n",
    "dataModel2= pd.DataFrame([{\n",
    "    'scheduledDeparture':'2023-01-12T07:00:00',\n",
    "    'scheduledArrival':'2023-01-12T09:55:00' ,\n",
    "    'UniqueCarrier':'DH',\n",
    "    'TailNum': 'N421FJ',\n",
    "    'Origin':'BOS',\n",
    "    'Dest': 'PHL',\n",
    "    \"Price\": \"1000\"\n",
    "}])\n",
    "\n",
    "\n",
    "\n",
    "\n",
    "dataModel1['scheduledArrival']=pd.to_datetime(dataModel1['scheduledArrival'])\n",
    "dataModel1['scheduledDeparture']=pd.to_datetime(dataModel1['scheduledDeparture'])\n",
    "dataModel2['scheduledArrival']=pd.to_datetime(dataModel2['scheduledArrival'])\n",
    "dataModel2['scheduledDeparture']=pd.to_datetime(dataModel2['scheduledDeparture'])\n",
    "    \n",
    "\n",
    "#Model1    \n",
    "dataModel1['Month']=dataModel1['scheduledDeparture'].dt.month.astype(int)\n",
    "dataModel1['DayofMonth']=dataModel1['scheduledDeparture'].dt.day.astype(int)\n",
    "dataModel1['DepTime']=dataModel1['scheduledDeparture'].dt.hour.astype(int)\n",
    "dataModel1['ArrTime']=dataModel1['scheduledArrival'].dt.hour.astype(int)\n",
    "\n",
    "#Model2\n",
    "dataModel2['Month']=dataModel2['scheduledDeparture'].dt.month.astype(int)\n",
    "dataModel2['DayofMonth']=dataModel2['scheduledDeparture'].dt.day.astype(int)\n",
    "dataModel2['DepTime']=dataModel2['scheduledDeparture'].dt.hour.astype(int)\n",
    "dataModel2['ArrTime']=dataModel2['scheduledArrival'].dt.hour.astype(int)\n",
    "\n",
    "\n",
    "dataModel1=dataModel1.drop(['scheduledDeparture','scheduledArrival'],axis=1)\n",
    "dataModel2=dataModel2.drop(['scheduledDeparture','scheduledArrival'],axis=1)\n",
    "    \n",
    "    \n",
    "    # drop_columns=['aircraftType','gateOrigin','weather','ticketPrice']\n",
    "    \n",
    "    # datainit=datainit.drop(drop_columns,axis=1,inplace=True)\n",
    "    \n",
    "    # Define a function to decode the encoded values back to original\n",
    "\n",
    "print(dataModel1)\n",
    "print(dataModel2)\n",
    "\n",
    "    \n",
    "with open('encoders.pkl', 'rb') as f:\n",
    "    encoders = pickle.load(f)\n",
    "    \n",
    "with open('encodersTicket.pkl', 'rb') as f:\n",
    "    encoders1 = pickle.load(f)\n"
   ]
  },
  {
   "cell_type": "code",
   "execution_count": 71,
   "metadata": {},
   "outputs": [
    {
     "name": "stdout",
     "output_type": "stream",
     "text": [
      "   Month  DayofMonth  DepTime  ArrTime  UniqueCarrier  TailNum  Origin  Dest  \\\n",
      "0      1          12        7        9              4     1910      32   209   \n",
      "\n",
      "   TMAX  TMIN  PRCP  \n",
      "0    53   -25    25  \n",
      "   Month  DayofMonth  DepTime  ArrTime  UniqueCarrier  TailNum  Origin  Dest  \\\n",
      "0      1          12        7        9              4     1831      26   166   \n",
      "\n",
      "  Price  \n",
      "0  1000  \n"
     ]
    }
   ],
   "source": [
    "        \n",
    "     #编码和反编码的编译函数   \n",
    "def encode_category(col, value):\n",
    "    return encoders[col]['mapping'].get(value, None)\n",
    "\n",
    "def decode_category(col, encoded_value):\n",
    "    return encoders[col]['inverse_mapping'].get(encoded_value, None)\n",
    "\n",
    "def encode_category1(col, value):\n",
    "    return encoders1[col]['mapping'].get(value, None)\n",
    "\n",
    "def decode_category1(col, encoded_value):\n",
    "    return encoders1[col]['inverse_mapping'].get(encoded_value, None)      \n",
    "        \n",
    "    \n",
    "encoder_col=['UniqueCarrier','TailNum','Origin','Dest']\n",
    "encoder_col1=['UniqueCarrier','TailNum','Origin','Dest']\n",
    "    \n",
    "for col in encoder_col:\n",
    "    dataModel1[col]=[encode_category(col, row) for row in dataModel1[col]]\n",
    "    \n",
    "for col in encoder_col1:\n",
    "    dataModel2[col]=[encode_category1(col, row) for row in dataModel2[col]]\n",
    "    \n",
    "new_columns_order=['Month','DayofMonth','DepTime','ArrTime','UniqueCarrier','TailNum','Origin','Dest','TMAX','TMIN','PRCP']\n",
    "dataModel1=dataModel1[new_columns_order]\n",
    "new_columns_order1=['Month','DayofMonth','DepTime','ArrTime','UniqueCarrier','TailNum','Origin','Dest','Price']\n",
    "dataModel2=dataModel2[new_columns_order1]\n",
    "\n",
    "\n",
    "\n",
    "\n",
    "print(dataModel1)\n",
    "print(dataModel2)\n"
   ]
  },
  {
   "cell_type": "code",
   "execution_count": 72,
   "metadata": {},
   "outputs": [
    {
     "name": "stdout",
     "output_type": "stream",
     "text": [
      "{'ArrDelayPredict': ['SlightArrDelay'], 'DepDelayPrediction': ['In Time'], 'ReasonPrediction': ['In Time or bit late']}\n"
     ]
    }
   ],
   "source": [
    "    \n",
    "with open('flight_modelRaF.pkl', 'rb') as f:\n",
    "    flight_model = pickle.load(f)\n",
    "    \n",
    "with open('ticketModel.pkl', 'rb') as f:\n",
    "    flight_model1 = pickle.load(f)\n",
    "    \n",
    "# 预测\n",
    "\n",
    "        \n",
    "y_pred1 = flight_model.predict(dataModel1)\n",
    "\n",
    "\n",
    "    # 预测逻辑示例\n",
    "result1 = {\n",
    "    \"ArrDelayPredict\": [decode_category('ArrDelay', row) for row in y_pred1[:, 0]],\n",
    "    \"DepDelayPrediction\": [decode_category('DepDelay', row) for row in y_pred1[:, 1]],\n",
    "    \"ReasonPrediction\":[decode_category('ReasonForDelay', row) for row in y_pred1[:, 2]],\n",
    "}\n",
    "    \n",
    "print(result1)\n"
   ]
  },
  {
   "cell_type": "code",
   "execution_count": 73,
   "metadata": {},
   "outputs": [
    {
     "name": "stdout",
     "output_type": "stream",
     "text": [
      "   FuturePrice\n",
      "0  1008.308428\n"
     ]
    }
   ],
   "source": [
    "# print(dataModel2)\n",
    "\n",
    "\n",
    "y_pred2 = flight_model1.predict(dataModel2)\n",
    "\n",
    "\n",
    "result2 = pd.DataFrame({\n",
    "    'FuturePrice': y_pred2\n",
    "})\n",
    "\n",
    "print(result2)\n"
   ]
  },
  {
   "cell_type": "raw",
   "metadata": {
    "vscode": {
     "languageId": "raw"
    }
   },
   "source": [
    "\n",
    "return jsonify(result), 200\n",
    "\n",
    "if __name__ == '__main__':\n",
    "    app.run(debug=True)"
   ]
  },
  {
   "cell_type": "code",
   "execution_count": 74,
   "metadata": {},
   "outputs": [],
   "source": [
    "# Example Request:\n",
    "# {\n",
    "#   \"flightNumber\": \"SQ318\",\n",
    "#   \"departureAirport\": \"SIN\",\n",
    "#   \"arrivalAirport\": \"LHR\",\n",
    "#   \"scheduledDeparture\": \"2023-12-01T12:00:00\",\n",
    "#   \"scheduledArrival\": \"2023-12-01T18:00:00\",\n",
    "#   \"aircraftType\": \"Boeing 777\",\n",
    "#   \"gateOrigin\": \"D32\",\n",
    "#   \"weather\": \"Clear\",\n",
    "#   \"ticketPrice\": \"1000\"\n",
    "# }\n",
    "# Responses:\n",
    "\n",
    "# \t•\tSuccess (200 OK):\n",
    "# \t•\tBody:\n",
    "#     {\n",
    "#   \"delayPrediction\": \"Predicted delay: 15 minutes\",\n",
    "#   \"ticketPricePrediction\": \"Predicted ticket price: 120 SGD\"\n",
    "# }"
   ]
  },
  {
   "cell_type": "code",
   "execution_count": 75,
   "metadata": {},
   "outputs": [],
   "source": [
    "# <!-- <class 'pandas.core.frame.DataFrame'>\n",
    "# RangeIndex: 120000 entries, 0 to 119999\n",
    "# Data columns (total 11 columns):\n",
    "#  #   Column          Non-Null Count   Dtype  \n",
    "# ---  ------          --------------   -----  \n",
    "#  0   Month           120000 non-null  int64  \n",
    "#  1   DayofMonth      120000 non-null  int64  \n",
    "#  2   DepTime         120000 non-null  float64\n",
    "#  3   ArrTime         120000 non-null  float64\n",
    "#  4   UniqueCarrier   120000 non-null  int32  \n",
    "#  5   TailNum         120000 non-null  int32  \n",
    "#  8   Origin          120000 non-null  int32  \n",
    "#  9   Dest            120000 non-null  int32  \n",
    "# dtypes: float64(2), int32(7), int64(2)\n",
    "# memory usage: 6.9 MB\n",
    "# None -->\n",
    "# 模型输入列示例\n"
   ]
  }
 ],
 "metadata": {
  "kernelspec": {
   "display_name": "base",
   "language": "python",
   "name": "python3"
  },
  "language_info": {
   "codemirror_mode": {
    "name": "ipython",
    "version": 3
   },
   "file_extension": ".py",
   "mimetype": "text/x-python",
   "name": "python",
   "nbconvert_exporter": "python",
   "pygments_lexer": "ipython3",
   "version": "3.11.9"
  }
 },
 "nbformat": 4,
 "nbformat_minor": 2
}
