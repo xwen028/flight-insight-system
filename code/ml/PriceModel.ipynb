{
 "cells": [
  {
   "cell_type": "markdown",
   "metadata": {},
   "source": [
    "为了节省内存占用。数据预处理的部分如果不是在机器学习中才需要流处理的话，可能就先在清洗后变成csv文件。之后训练的时候再读取了。"
   ]
  },
  {
   "cell_type": "code",
   "execution_count": 82,
   "metadata": {},
   "outputs": [],
   "source": [
    "# Import Libraries\n",
    "import pandas as pd\n",
    "import numpy as np\n",
    "import seaborn as sns\n",
    "import matplotlib.pyplot as plt\n",
    "import matplotlib.ticker as mtick\n",
    "import networkx as nx\n",
    "import chardet\n",
    "import warnings\n",
    "import pickle\n",
    "import os\n",
    "from sklearn.model_selection import train_test_split\n",
    "from sklearn.ensemble import RandomForestRegressor\n",
    "from sklearn.metrics import mean_squared_error\n",
    "from sklearn.preprocessing import LabelEncoder\n",
    "from sklearn.preprocessing import StandardScaler\n",
    "\n",
    "warnings.filterwarnings('ignore') # 在整个Python脚本执行期间忽略所有的警告。\n"
   ]
  },
  {
   "cell_type": "code",
   "execution_count": 83,
   "metadata": {},
   "outputs": [],
   "source": [
    "# Flight_data=pd.read_csv('Flight_Data_TryBig.csv')\n",
    "\n",
    "# Ticket_Price=pd.read_csv('TicketPrice.csv')\n",
    "\n"
   ]
  },
  {
   "cell_type": "code",
   "execution_count": 84,
   "metadata": {},
   "outputs": [],
   "source": [
    "#时间列相除\n",
    "# Timerols=['DepTime','CRSDepTime','ArrTime','CRSArrTime']\n",
    "\n",
    "# for col in Timerols:\n",
    "#     Flight_data[col]=Flight_data[col]//100\n",
    "\n",
    "\n",
    "\n",
    "# Ticket_Price['Date_of_Journey']=pd.to_datetime(Ticket_Price['Date_of_Journey'],format='%d/%m/%Y')\n",
    "\n",
    "# Ticket_Price['Dep_Time']=pd.to_datetime(Ticket_Price['Dep_Time'],format='%H:%M')\n",
    "\n",
    "# Ticket_Price['Month']=Ticket_Price['Date_of_Journey'].dt.month\n",
    "# Ticket_Price['DayofMonth']=Ticket_Price['Date_of_Journey'].dt.day\n",
    "\n",
    "# Ticket_Price['DepTime']=Ticket_Price['Dep_Time'].dt.hour\n",
    "\n",
    "# Ticket_Price.to_csv('TicketPriceTrans.csv',index=False)\n"
   ]
  },
  {
   "cell_type": "code",
   "execution_count": 85,
   "metadata": {},
   "outputs": [],
   "source": [
    "#根据之前整理的数据获取票价\n",
    "# mergedprice = pd.merge(\n",
    "#     Flight_data,\n",
    "#     Ticket_Price[['DayofMonth','DepTime','Price']],\n",
    "#     how='left',\n",
    "#     left_on=['DayofMonth','DepTime'],\n",
    "#     right_on=['DayofMonth','DepTime']\n",
    "# )\n",
    "\n",
    "# mergedprice.drop_duplicates(inplace=True)"
   ]
  },
  {
   "cell_type": "code",
   "execution_count": 86,
   "metadata": {},
   "outputs": [],
   "source": [
    "# print(mergedprice.isnull().sum())"
   ]
  },
  {
   "cell_type": "code",
   "execution_count": 87,
   "metadata": {},
   "outputs": [],
   "source": [
    "# print(mergedprice.info())"
   ]
  },
  {
   "cell_type": "code",
   "execution_count": 88,
   "metadata": {},
   "outputs": [],
   "source": [
    "# merged_weather_df.to_csv('merged_weatherr1.csv', index=False)"
   ]
  },
  {
   "cell_type": "code",
   "execution_count": 89,
   "metadata": {},
   "outputs": [],
   "source": [
    "#首先删除数据集中我们不需要处理的列。\n",
    "# def drop_unnecessary_columns(data,colunms_to_drop):\n",
    "#     data.drop(columns=columns_to_drop, inplace=True)\n",
    "#     return data\n",
    "\n",
    "# columns_to_drop = ['FlightNum']\n",
    "# drop_unnecessary_columns(mergedprice,columns_to_drop)\n",
    "\n",
    "# #对cancelcode重新运用None填充规则\n",
    "# mergedprice['CancellationCode'] = mergedprice['CancellationCode'].fillna('None')"
   ]
  },
  {
   "cell_type": "code",
   "execution_count": 90,
   "metadata": {},
   "outputs": [],
   "source": [
    "# print(mergedprice.info())"
   ]
  },
  {
   "cell_type": "code",
   "execution_count": 91,
   "metadata": {},
   "outputs": [],
   "source": [
    "# mergedprice.to_csv('merged_price.csv', index=False)"
   ]
  },
  {
   "cell_type": "code",
   "execution_count": 92,
   "metadata": {},
   "outputs": [],
   "source": [
    "#首先删除数据集中我们不需要处理的列。\n",
    "# def drop_unnecessary_columns(data,colunms_to_drop):\n",
    "#     data.drop(columns=columns_to_drop, inplace=True)\n",
    "#     return data\n",
    "\n",
    "# columns_to_drop = ['ArrDelay','DepDelay','Cancelled','CancellationCode','CarrierDelay','WeatherDelay','NASDelay','SecurityDelay','LateAircraftDelay']\n",
    "# drop_unnecessary_columns(mergedprice,columns_to_drop)\n",
    "\n",
    "# mergedprice_clean=mergedprice.dropna(subset=['Price'],inplace=True)\n",
    "\n",
    "# print(mergedprice.isnull().sum())"
   ]
  },
  {
   "cell_type": "code",
   "execution_count": 93,
   "metadata": {},
   "outputs": [],
   "source": [
    "# print(mergedprice.info())"
   ]
  },
  {
   "cell_type": "code",
   "execution_count": 94,
   "metadata": {},
   "outputs": [],
   "source": [
    "# mergedprice.to_csv('merged_price_clean.csv', index=False)"
   ]
  },
  {
   "cell_type": "code",
   "execution_count": 95,
   "metadata": {},
   "outputs": [],
   "source": [
    "# ticketP=mergedprice.drop_duplicates(subset=['TailNum'])\n",
    "\n",
    "# print(ticketP.info())\n",
    "\n",
    "# ticketP.to_csv('ticketP.csv', index=False)"
   ]
  },
  {
   "cell_type": "code",
   "execution_count": 96,
   "metadata": {},
   "outputs": [
    {
     "name": "stdout",
     "output_type": "stream",
     "text": [
      "<class 'pandas.core.frame.DataFrame'>\n",
      "RangeIndex: 5155 entries, 0 to 5154\n",
      "Data columns (total 11 columns):\n",
      " #   Column         Non-Null Count  Dtype  \n",
      "---  ------         --------------  -----  \n",
      " 0   Month          5155 non-null   int64  \n",
      " 1   DayofMonth     5155 non-null   int64  \n",
      " 2   DepTime        5155 non-null   float64\n",
      " 3   CRSDepTime     5155 non-null   int64  \n",
      " 4   ArrTime        5155 non-null   float64\n",
      " 5   CRSArrTime     5155 non-null   int64  \n",
      " 6   UniqueCarrier  5155 non-null   object \n",
      " 7   TailNum        5155 non-null   object \n",
      " 8   Origin         5155 non-null   object \n",
      " 9   Dest           5155 non-null   object \n",
      " 10  Price          5155 non-null   float64\n",
      "dtypes: float64(3), int64(4), object(4)\n",
      "memory usage: 443.1+ KB\n",
      "None\n"
     ]
    }
   ],
   "source": [
    "ticketModel=pd.read_csv('ticketP.csv')\n",
    "print(ticketModel.info())"
   ]
  },
  {
   "cell_type": "code",
   "execution_count": 97,
   "metadata": {},
   "outputs": [
    {
     "data": {
      "text/html": [
       "<div>\n",
       "<style scoped>\n",
       "    .dataframe tbody tr th:only-of-type {\n",
       "        vertical-align: middle;\n",
       "    }\n",
       "\n",
       "    .dataframe tbody tr th {\n",
       "        vertical-align: top;\n",
       "    }\n",
       "\n",
       "    .dataframe thead th {\n",
       "        text-align: right;\n",
       "    }\n",
       "</style>\n",
       "<table border=\"1\" class=\"dataframe\">\n",
       "  <thead>\n",
       "    <tr style=\"text-align: right;\">\n",
       "      <th></th>\n",
       "      <th>Month</th>\n",
       "      <th>DayofMonth</th>\n",
       "      <th>DepTime</th>\n",
       "      <th>ArrTime</th>\n",
       "      <th>UniqueCarrier</th>\n",
       "      <th>TailNum</th>\n",
       "      <th>Origin</th>\n",
       "      <th>Dest</th>\n",
       "      <th>Price</th>\n",
       "    </tr>\n",
       "  </thead>\n",
       "  <tbody>\n",
       "    <tr>\n",
       "      <th>0</th>\n",
       "      <td>1</td>\n",
       "      <td>9</td>\n",
       "      <td>11.0</td>\n",
       "      <td>13.0</td>\n",
       "      <td>DL</td>\n",
       "      <td>N663DN</td>\n",
       "      <td>LGA</td>\n",
       "      <td>ATL</td>\n",
       "      <td>7202.0</td>\n",
       "    </tr>\n",
       "    <tr>\n",
       "      <th>1</th>\n",
       "      <td>1</td>\n",
       "      <td>27</td>\n",
       "      <td>17.0</td>\n",
       "      <td>18.0</td>\n",
       "      <td>DL</td>\n",
       "      <td>N955DL</td>\n",
       "      <td>ATL</td>\n",
       "      <td>JAN</td>\n",
       "      <td>4878.0</td>\n",
       "    </tr>\n",
       "    <tr>\n",
       "      <th>2</th>\n",
       "      <td>1</td>\n",
       "      <td>15</td>\n",
       "      <td>13.0</td>\n",
       "      <td>16.0</td>\n",
       "      <td>NW</td>\n",
       "      <td>N509US</td>\n",
       "      <td>EGE</td>\n",
       "      <td>MSP</td>\n",
       "      <td>6961.0</td>\n",
       "    </tr>\n",
       "    <tr>\n",
       "      <th>3</th>\n",
       "      <td>1</td>\n",
       "      <td>9</td>\n",
       "      <td>6.0</td>\n",
       "      <td>8.0</td>\n",
       "      <td>DL</td>\n",
       "      <td>N311DL</td>\n",
       "      <td>RIC</td>\n",
       "      <td>CVG</td>\n",
       "      <td>6442.0</td>\n",
       "    </tr>\n",
       "    <tr>\n",
       "      <th>4</th>\n",
       "      <td>1</td>\n",
       "      <td>1</td>\n",
       "      <td>9.0</td>\n",
       "      <td>13.0</td>\n",
       "      <td>XE</td>\n",
       "      <td>N23139</td>\n",
       "      <td>TUL</td>\n",
       "      <td>EWR</td>\n",
       "      <td>8907.0</td>\n",
       "    </tr>\n",
       "    <tr>\n",
       "      <th>...</th>\n",
       "      <td>...</td>\n",
       "      <td>...</td>\n",
       "      <td>...</td>\n",
       "      <td>...</td>\n",
       "      <td>...</td>\n",
       "      <td>...</td>\n",
       "      <td>...</td>\n",
       "      <td>...</td>\n",
       "      <td>...</td>\n",
       "    </tr>\n",
       "    <tr>\n",
       "      <th>5150</th>\n",
       "      <td>12</td>\n",
       "      <td>1</td>\n",
       "      <td>19.0</td>\n",
       "      <td>22.0</td>\n",
       "      <td>XE</td>\n",
       "      <td>N14173</td>\n",
       "      <td>IAH</td>\n",
       "      <td>ORF</td>\n",
       "      <td>10651.0</td>\n",
       "    </tr>\n",
       "    <tr>\n",
       "      <th>5151</th>\n",
       "      <td>12</td>\n",
       "      <td>9</td>\n",
       "      <td>11.0</td>\n",
       "      <td>12.0</td>\n",
       "      <td>WN</td>\n",
       "      <td>N486</td>\n",
       "      <td>BWI</td>\n",
       "      <td>CMH</td>\n",
       "      <td>7202.0</td>\n",
       "    </tr>\n",
       "    <tr>\n",
       "      <th>5152</th>\n",
       "      <td>12</td>\n",
       "      <td>18</td>\n",
       "      <td>11.0</td>\n",
       "      <td>12.0</td>\n",
       "      <td>EV</td>\n",
       "      <td>N755EV</td>\n",
       "      <td>LEX</td>\n",
       "      <td>ATL</td>\n",
       "      <td>13555.0</td>\n",
       "    </tr>\n",
       "    <tr>\n",
       "      <th>5153</th>\n",
       "      <td>12</td>\n",
       "      <td>12</td>\n",
       "      <td>12.0</td>\n",
       "      <td>13.0</td>\n",
       "      <td>WN</td>\n",
       "      <td>N492</td>\n",
       "      <td>HOU</td>\n",
       "      <td>LAX</td>\n",
       "      <td>10991.0</td>\n",
       "    </tr>\n",
       "    <tr>\n",
       "      <th>5154</th>\n",
       "      <td>12</td>\n",
       "      <td>24</td>\n",
       "      <td>8.0</td>\n",
       "      <td>10.0</td>\n",
       "      <td>DL</td>\n",
       "      <td>N103DA</td>\n",
       "      <td>PBI</td>\n",
       "      <td>ATL</td>\n",
       "      <td>4812.0</td>\n",
       "    </tr>\n",
       "  </tbody>\n",
       "</table>\n",
       "<p>5155 rows × 9 columns</p>\n",
       "</div>"
      ],
      "text/plain": [
       "      Month  DayofMonth  DepTime  ArrTime UniqueCarrier TailNum Origin Dest  \\\n",
       "0         1           9     11.0     13.0            DL  N663DN    LGA  ATL   \n",
       "1         1          27     17.0     18.0            DL  N955DL    ATL  JAN   \n",
       "2         1          15     13.0     16.0            NW  N509US    EGE  MSP   \n",
       "3         1           9      6.0      8.0            DL  N311DL    RIC  CVG   \n",
       "4         1           1      9.0     13.0            XE  N23139    TUL  EWR   \n",
       "...     ...         ...      ...      ...           ...     ...    ...  ...   \n",
       "5150     12           1     19.0     22.0            XE  N14173    IAH  ORF   \n",
       "5151     12           9     11.0     12.0            WN    N486    BWI  CMH   \n",
       "5152     12          18     11.0     12.0            EV  N755EV    LEX  ATL   \n",
       "5153     12          12     12.0     13.0            WN    N492    HOU  LAX   \n",
       "5154     12          24      8.0     10.0            DL  N103DA    PBI  ATL   \n",
       "\n",
       "        Price  \n",
       "0      7202.0  \n",
       "1      4878.0  \n",
       "2      6961.0  \n",
       "3      6442.0  \n",
       "4      8907.0  \n",
       "...       ...  \n",
       "5150  10651.0  \n",
       "5151   7202.0  \n",
       "5152  13555.0  \n",
       "5153  10991.0  \n",
       "5154   4812.0  \n",
       "\n",
       "[5155 rows x 9 columns]"
      ]
     },
     "execution_count": 97,
     "metadata": {},
     "output_type": "execute_result"
    }
   ],
   "source": [
    "def drop_unnecessary_columns(data,colunms_to_drop):\n",
    "    data.drop(columns=columns_to_drop, inplace=True)\n",
    "    return data\n",
    "\n",
    "columns_to_drop = ['CRSArrTime','CRSDepTime']\n",
    "drop_unnecessary_columns(ticketModel,columns_to_drop)\n",
    "\n"
   ]
  },
  {
   "cell_type": "code",
   "execution_count": 98,
   "metadata": {},
   "outputs": [],
   "source": [
    "#生成一个新行（未来价格），到时候提交的时候要把注释删掉\n",
    "\n",
    "# base_row=ticketModel[['Price']]\n",
    "\n",
    "# min_values=base_row.min()\n",
    "# max_values=base_row.max()\n",
    "\n",
    "# random_row = np.random.uniform(min_values, max_values, size=len(base_row))\n",
    "\n",
    "# 定义一个函数，用于在原始值上随机上下浮动 10%-30%\n",
    "def random_fluctuation(value):\n",
    "    # 随机生成一个在 -30% 到 +30% 之间的浮动比例\n",
    "    fluctuation = np.random.uniform(-0.3, 0.3)\n",
    "    # 在原始值上进行浮动\n",
    "    return value * (1 + fluctuation)\n",
    "\n",
    "\n",
    "ticketModel['FuturePrice'] = ticketModel['Price'].apply(random_fluctuation)\n",
    "\n",
    "ticketModel['FuturePrice']=ticketModel['FuturePrice'].round(0)\n",
    "\n",
    "# ticketModel.to_csv('ticketModelView.csv', index=False)"
   ]
  },
  {
   "cell_type": "code",
   "execution_count": 99,
   "metadata": {},
   "outputs": [
    {
     "name": "stdout",
     "output_type": "stream",
     "text": [
      "Index(['UniqueCarrier', 'TailNum', 'Origin', 'Dest'], dtype='object')\n",
      "   Month  DayofMonth  DepTime  ArrTime  UniqueCarrier  TailNum  Origin  Dest  \\\n",
      "0      1           9     11.0     13.0              5     3479     120    12   \n",
      "1      1          27     17.0     18.0              5     4969      10   107   \n",
      "2      1          15     13.0     16.0             11     2345      66   149   \n",
      "3      1           9      6.0      8.0              5      928     179    55   \n",
      "4      1           1      9.0     13.0             18      648     215    70   \n",
      "\n",
      "   Price  FuturePrice  \n",
      "0  720.0        610.0  \n",
      "1  488.0        430.0  \n",
      "2  696.0        505.0  \n",
      "3  644.0        614.0  \n",
      "4  891.0        702.0  \n"
     ]
    }
   ],
   "source": [
    "changetormb=['Price','FuturePrice']\n",
    "\n",
    "for col in changetormb:\n",
    "    ticketModel[col]=ticketModel[col]/10\n",
    "    ticketModel[col]=ticketModel[col].round(0)\n",
    "\n",
    "objcolumns1=ticketModel.select_dtypes(include=['object']).columns\n",
    "\n",
    "print(objcolumns1)\n",
    "\n",
    "le=LabelEncoder()\n",
    "\n",
    "encoders={}\n",
    "\n",
    "for col in objcolumns1:\n",
    "    ticketModel[col]=le.fit_transform(ticketModel[col])\n",
    "    encoders[col] = {\n",
    "        'encoder': le,\n",
    "        'mapping': dict(zip(le.classes_, le.transform(le.classes_))),\n",
    "        'inverse_mapping': {v: k for k, v in dict(zip(le.classes_, le.transform(le.classes_))).items()}\n",
    "    }\n",
    "   \n",
    "\n",
    "print(ticketModel.head())\n",
    "    "
   ]
  },
  {
   "cell_type": "code",
   "execution_count": 100,
   "metadata": {},
   "outputs": [],
   "source": [
    "from sklearn.linear_model import LinearRegression\n",
    "\n",
    "\n",
    "X=ticketModel.drop(columns=['FuturePrice'])\n",
    "y=ticketModel['FuturePrice']\n",
    "\n",
    "X_train, X_test, y_train, y_test = train_test_split(X, y, test_size=0.2, random_state=42)\n",
    "\n",
    "\n",
    "\n",
    "model = LinearRegression()\n",
    "\n",
    "\n",
    "model.fit(X_train, y_train)\n",
    "\n",
    "\n",
    "y_pred = model.predict(X_test)\n"
   ]
  },
  {
   "cell_type": "code",
   "execution_count": 101,
   "metadata": {},
   "outputs": [
    {
     "name": "stdout",
     "output_type": "stream",
     "text": [
      "Mean Squared Error: 28437.277231691693\n",
      "R^2 Score: 0.8631438174235962\n",
      "Adjusted R^2: 0.8619374455889365\n"
     ]
    }
   ],
   "source": [
    "from sklearn.metrics import mean_squared_error, r2_score\n",
    "\n",
    "\n",
    "mse = mean_squared_error(y_test, y_pred)\n",
    "\n",
    "n = X_test.shape[0]  # 样本数量\n",
    "k = X_test.shape[1]  # 特征数量\n",
    "\n",
    "\n",
    "r2 = r2_score(y_test, y_pred)\n",
    "\n",
    "print(f\"Mean Squared Error: {mse}\")\n",
    "print(f\"R^2 Score: {r2}\")\n",
    "\n",
    "adjusted_r2 = 1 - (1 - r2) * (n - 1) / (n - k - 1)\n",
    "\n",
    "\n",
    "print(f\"Adjusted R^2: {adjusted_r2}\")\n"
   ]
  },
  {
   "cell_type": "code",
   "execution_count": 102,
   "metadata": {},
   "outputs": [],
   "source": [
    "def encode_category(col, value):\n",
    "    return encoders[col]['mapping'].get(value, None)\n",
    "\n",
    "def decode_category(col, encoded_value):\n",
    "    return encoders[col]['inverse_mapping'].get(encoded_value, None)"
   ]
  },
  {
   "cell_type": "code",
   "execution_count": null,
   "metadata": {},
   "outputs": [],
   "source": [
    "y_test=pd.DataFrame(y_test,columns=['FuturePrice'])\n",
    "y_pred=pd.DataFrame(y_pred,columns=['FuturePrice'])\n",
    "\n",
    "print(y_test.info())\n",
    "print(y_pred.info())\n",
    "\n",
    "df_result = pd.DataFrame({\n",
    "    'FormerPrice': y_test['FuturePrice'],\n",
    "    'FuturePrice': y_pred['FuturePrice']\n",
    "})\n",
    "\n",
    "print(df_result.head())"
   ]
  },
  {
   "cell_type": "code",
   "execution_count": 105,
   "metadata": {},
   "outputs": [],
   "source": [
    "with open('encodersTicket.pkl', 'wb') as f:\n",
    "    pickle.dump(encoders, f)\n",
    "    \n",
    "with open('ticketModel.pkl', 'wb') as f:\n",
    "    pickle.dump(model, f)"
   ]
  }
 ],
 "metadata": {
  "kernelspec": {
   "display_name": "base",
   "language": "python",
   "name": "python3"
  },
  "language_info": {
   "codemirror_mode": {
    "name": "ipython",
    "version": 3
   },
   "file_extension": ".py",
   "mimetype": "text/x-python",
   "name": "python",
   "nbconvert_exporter": "python",
   "pygments_lexer": "ipython3",
   "version": "3.11.9"
  }
 },
 "nbformat": 4,
 "nbformat_minor": 2
}
